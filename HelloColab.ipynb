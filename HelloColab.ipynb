{
  "nbformat": 4,
  "nbformat_minor": 0,
  "metadata": {
    "colab": {
      "name": "HelloColab.ipynb",
      "provenance": [],
      "collapsed_sections": []
    },
    "kernelspec": {
      "name": "python3",
      "display_name": "Python 3"
    },
    "language_info": {
      "name": "python"
    }
  },
  "cells": [
    {
      "cell_type": "code",
      "execution_count": 1,
      "metadata": {
        "colab": {
          "base_uri": "https://localhost:8080/"
        },
        "id": "-knzkUKARUZa",
        "outputId": "51ca1aac-5012-4a22-b899-479156bff898"
      },
      "outputs": [
        {
          "output_type": "stream",
          "name": "stdout",
          "text": [
            "Hello,Colab!\n"
          ]
        }
      ],
      "source": [
        "import tensorflow as tf\n",
        "print(\"Hello,Colab!\")"
      ]
    },
    {
      "cell_type": "markdown",
      "source": [
        "# Hello, Colab"
      ],
      "metadata": {
        "id": "M5ksewKOSISj"
      }
    }
  ]
}